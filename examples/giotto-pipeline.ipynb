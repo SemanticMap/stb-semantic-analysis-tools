{
 "cells": [
  {
   "cell_type": "code",
   "execution_count": null,
   "id": "5aa78897-1c76-4f6f-abb6-9502f2358c3b",
   "metadata": {
    "scrolled": true
   },
   "outputs": [],
   "source": [
    "# !python -m pip install -U giotto-tda"
   ]
  },
  {
   "cell_type": "code",
   "execution_count": 8,
   "id": "3cfa82a4-8884-4b48-b9d9-77a2f36e0bac",
   "metadata": {},
   "outputs": [],
   "source": [
    "import numpy as np\n",
    "import matplotlib.pyplot as plt\n",
    "import seaborn as sns\n",
    "sns.set_style('whitegrid')\n",
    "from tqdm.auto import tqdm, trange\n",
    "# import plotly.graph_objects as go\n",
    "\n",
    "import pandas as pd\n",
    "\n",
    "import os"
   ]
  },
  {
   "cell_type": "code",
   "execution_count": 3,
   "id": "bd03323e-6888-4379-ae63-7a00f657ae81",
   "metadata": {},
   "outputs": [],
   "source": [
    "%load_ext autoreload\n",
    "%autoreload 2"
   ]
  },
  {
   "cell_type": "markdown",
   "id": "2c2cd46b-8279-441f-a079-35cec3ff673f",
   "metadata": {
    "tags": []
   },
   "source": [
    "# Pipeline"
   ]
  },
  {
   "cell_type": "code",
   "execution_count": 4,
   "id": "58444bb8-6e26-4f5a-89e6-b2f9f1549d2c",
   "metadata": {},
   "outputs": [],
   "source": [
    "from dataset_utils import *"
   ]
  },
  {
   "cell_type": "code",
   "execution_count": null,
   "id": "1416f4bc-3981-4724-a13f-3a1e5480d4bd",
   "metadata": {},
   "outputs": [],
   "source": [
    "from tda_features import TDAPipeline"
   ]
  },
  {
   "cell_type": "code",
   "execution_count": 107,
   "id": "2f7bd3e9-b4a4-44da-86e2-235a44c74ff4",
   "metadata": {},
   "outputs": [],
   "source": [
    "import os\n",
    "os.makedirs(\"tables/EN/\")"
   ]
  },
  {
   "cell_type": "code",
   "execution_count": null,
   "id": "aa07aa83-853a-45f6-b891-0a00db9112d1",
   "metadata": {},
   "outputs": [],
   "source": [
    "for m in trange(1, 17):\n",
    "    for emb_type in tqdm(['SVD', 'skipgram', 'cbow'], leave=False):\n",
    "        if emb_type.lower() == 'svd':\n",
    "            wdict_path = \"/home/kdang/EN/english_data/english_newlit_SVD_dict.npy\"\n",
    "        else:\n",
    "            wdict_path = f\"/home/kdang/EN/english_data/english_newlit_{emb_type}_{m}_dict.npy\"\n",
    "        dataset_params = {\n",
    "            \"text_data_path\":\"../DATASET/English/\",\n",
    "            \"lang\":\"EN\",\n",
    "            \"language\":\"english\",\n",
    "            \"m\":m,\n",
    "            \"emb_type\":emb_type,\n",
    "            \"wdict_path\":wdict_path\n",
    "        }\n",
    "        en_dataset = get_dataset(**dataset_params)\n",
    "        (X_train, y_train), (X_test, y_test) = split_data(en_dataset)\n",
    "        X_train_tf = tda_pipeline.pipeline.fit_transform(X_train)\n",
    "        X_test_tf = tda_pipeline.pipeline.transform(X_test)\n",
    "        np.save(f\"tables/EN/train_dataset_{m}_{emb_type}.npy\", X_train_tf)\n",
    "        np.save(f\"tables/EN/test_dataset_{m}_{emb_type}.npy\", X_test_tf)        "
   ]
  },
  {
   "cell_type": "code",
   "execution_count": null,
   "id": "99601f38-1c9d-4627-a155-924d7520301c",
   "metadata": {},
   "outputs": [],
   "source": [
    "\"/home/kdang/RUS/russian_nofrag_data/russian_nofraglit_cbow_1_dict.npy\"\n",
    "\"/home/kdang/GER/german_data/german_newlit_SVD_dict.npy\"\n",
    "\"/home/kdang/FR/french_data/newlit_data/french_newlit_skipgram_15_dict.npy\"\n",
    "\"/home/kdang/VN/vn_embs/table/svd_table_16.npy\"\n",
    "\"/home/kdang/VN/vn_embs/table/cbow/cbow_table_1.npy\""
   ]
  },
  {
   "cell_type": "code",
   "execution_count": null,
   "id": "353c91ec-39cc-4c2d-b7a2-ef63052a9c28",
   "metadata": {},
   "outputs": [
    {
     "data": {
      "application/vnd.jupyter.widget-view+json": {
       "model_id": "22054749c1064cbf87314863eef7dbfd",
       "version_major": 2,
       "version_minor": 0
      },
      "text/plain": [
       "  0%|          | 0/16 [00:00<?, ?it/s]"
      ]
     },
     "metadata": {},
     "output_type": "display_data"
    },
    {
     "data": {
      "application/vnd.jupyter.widget-view+json": {
       "model_id": "7b847e04127c4ec4b92b0b35ba49831e",
       "version_major": 2,
       "version_minor": 0
      },
      "text/plain": [
       "  0%|          | 0/3 [00:00<?, ?it/s]"
      ]
     },
     "metadata": {},
     "output_type": "display_data"
    },
    {
     "name": "stdout",
     "output_type": "stream",
     "text": [
      "SVD descending: False\n"
     ]
    },
    {
     "data": {
      "application/vnd.jupyter.widget-view+json": {
       "model_id": "d102ed172c4b4cf4966e7eb1494320a3",
       "version_major": 2,
       "version_minor": 0
      },
      "text/plain": [
       "Reading corpus...:   0%|          | 0/2000 [00:00<?, ?it/s]"
      ]
     },
     "metadata": {},
     "output_type": "display_data"
    },
    {
     "data": {
      "application/vnd.jupyter.widget-view+json": {
       "model_id": "349c0d8fe87148e8866c1f1259b22af0",
       "version_major": 2,
       "version_minor": 0
      },
      "text/plain": [
       "Reading corpus...:   0%|          | 0/1000 [00:00<?, ?it/s]"
      ]
     },
     "metadata": {},
     "output_type": "display_data"
    },
    {
     "data": {
      "application/vnd.jupyter.widget-view+json": {
       "model_id": "c5445bd0959c48a58dc7bb0b659c8f83",
       "version_major": 2,
       "version_minor": 0
      },
      "text/plain": [
       "Reading corpus...:   0%|          | 0/1000 [00:00<?, ?it/s]"
      ]
     },
     "metadata": {},
     "output_type": "display_data"
    },
    {
     "data": {
      "application/vnd.jupyter.widget-view+json": {
       "model_id": "af9384d3b6cd49e784fdd1dac630106a",
       "version_major": 2,
       "version_minor": 0
      },
      "text/plain": [
       "Reading corpus...:   0%|          | 0/600 [00:00<?, ?it/s]"
      ]
     },
     "metadata": {},
     "output_type": "display_data"
    },
    {
     "data": {
      "application/vnd.jupyter.widget-view+json": {
       "model_id": "57d9007c0e0245979469d898677ae7e5",
       "version_major": 2,
       "version_minor": 0
      },
      "text/plain": [
       "Reading corpus...:   0%|          | 0/300 [00:00<?, ?it/s]"
      ]
     },
     "metadata": {},
     "output_type": "display_data"
    },
    {
     "data": {
      "application/vnd.jupyter.widget-view+json": {
       "model_id": "c94d1723f4a446f1a195c23c718bf038",
       "version_major": 2,
       "version_minor": 0
      },
      "text/plain": [
       "Reading corpus...:   0%|          | 0/300 [00:00<?, ?it/s]"
      ]
     },
     "metadata": {},
     "output_type": "display_data"
    },
    {
     "name": "stdout",
     "output_type": "stream",
     "text": [
      "SVD descending: False\n"
     ]
    },
    {
     "data": {
      "application/vnd.jupyter.widget-view+json": {
       "model_id": "83c66b23c61b4c38bd91da31a37b8369",
       "version_major": 2,
       "version_minor": 0
      },
      "text/plain": [
       "Reading corpus...:   0%|          | 0/2000 [00:00<?, ?it/s]"
      ]
     },
     "metadata": {},
     "output_type": "display_data"
    },
    {
     "data": {
      "application/vnd.jupyter.widget-view+json": {
       "model_id": "31bc4b00c0024a77a96cd1d895f4da76",
       "version_major": 2,
       "version_minor": 0
      },
      "text/plain": [
       "Reading corpus...:   0%|          | 0/1000 [00:00<?, ?it/s]"
      ]
     },
     "metadata": {},
     "output_type": "display_data"
    },
    {
     "data": {
      "application/vnd.jupyter.widget-view+json": {
       "model_id": "1386e00b825846608ad47f96f5bc0ab9",
       "version_major": 2,
       "version_minor": 0
      },
      "text/plain": [
       "Reading corpus...:   0%|          | 0/1000 [00:00<?, ?it/s]"
      ]
     },
     "metadata": {},
     "output_type": "display_data"
    },
    {
     "data": {
      "application/vnd.jupyter.widget-view+json": {
       "model_id": "0c25150bc26544588f1c656027aa2119",
       "version_major": 2,
       "version_minor": 0
      },
      "text/plain": [
       "Reading corpus...:   0%|          | 0/600 [00:00<?, ?it/s]"
      ]
     },
     "metadata": {},
     "output_type": "display_data"
    },
    {
     "data": {
      "application/vnd.jupyter.widget-view+json": {
       "model_id": "fd5e92300a984d379a094d367962fbe4",
       "version_major": 2,
       "version_minor": 0
      },
      "text/plain": [
       "Reading corpus...:   0%|          | 0/300 [00:00<?, ?it/s]"
      ]
     },
     "metadata": {},
     "output_type": "display_data"
    },
    {
     "data": {
      "application/vnd.jupyter.widget-view+json": {
       "model_id": "83cd0cf350704d47a9668a6c695b3ef0",
       "version_major": 2,
       "version_minor": 0
      },
      "text/plain": [
       "Reading corpus...:   0%|          | 0/300 [00:00<?, ?it/s]"
      ]
     },
     "metadata": {},
     "output_type": "display_data"
    },
    {
     "name": "stdout",
     "output_type": "stream",
     "text": [
      "SVD descending: False\n"
     ]
    },
    {
     "data": {
      "application/vnd.jupyter.widget-view+json": {
       "model_id": "8d7cd0ed3af44c4babfc0b1c68a05e41",
       "version_major": 2,
       "version_minor": 0
      },
      "text/plain": [
       "Reading corpus...:   0%|          | 0/2000 [00:00<?, ?it/s]"
      ]
     },
     "metadata": {},
     "output_type": "display_data"
    },
    {
     "data": {
      "application/vnd.jupyter.widget-view+json": {
       "model_id": "5196ef8072854bb78ac9b6f3674be6b2",
       "version_major": 2,
       "version_minor": 0
      },
      "text/plain": [
       "Reading corpus...:   0%|          | 0/1000 [00:00<?, ?it/s]"
      ]
     },
     "metadata": {},
     "output_type": "display_data"
    },
    {
     "data": {
      "application/vnd.jupyter.widget-view+json": {
       "model_id": "3da5760b1482433393386fabde4444c8",
       "version_major": 2,
       "version_minor": 0
      },
      "text/plain": [
       "Reading corpus...:   0%|          | 0/1000 [00:00<?, ?it/s]"
      ]
     },
     "metadata": {},
     "output_type": "display_data"
    },
    {
     "data": {
      "application/vnd.jupyter.widget-view+json": {
       "model_id": "51fc3632e5734f2681dd36e23ddabaa3",
       "version_major": 2,
       "version_minor": 0
      },
      "text/plain": [
       "Reading corpus...:   0%|          | 0/600 [00:00<?, ?it/s]"
      ]
     },
     "metadata": {},
     "output_type": "display_data"
    },
    {
     "data": {
      "application/vnd.jupyter.widget-view+json": {
       "model_id": "fdb14a5d9cff4cae92c21d08d590c446",
       "version_major": 2,
       "version_minor": 0
      },
      "text/plain": [
       "Reading corpus...:   0%|          | 0/300 [00:00<?, ?it/s]"
      ]
     },
     "metadata": {},
     "output_type": "display_data"
    },
    {
     "data": {
      "application/vnd.jupyter.widget-view+json": {
       "model_id": "ce6fac3b715d413f8a23b262435d2209",
       "version_major": 2,
       "version_minor": 0
      },
      "text/plain": [
       "Reading corpus...:   0%|          | 0/300 [00:00<?, ?it/s]"
      ]
     },
     "metadata": {},
     "output_type": "display_data"
    },
    {
     "data": {
      "application/vnd.jupyter.widget-view+json": {
       "model_id": "7f13968ebc7b4929867539e4951b8aaa",
       "version_major": 2,
       "version_minor": 0
      },
      "text/plain": [
       "  0%|          | 0/3 [00:00<?, ?it/s]"
      ]
     },
     "metadata": {},
     "output_type": "display_data"
    },
    {
     "name": "stdout",
     "output_type": "stream",
     "text": [
      "SVD descending: False\n"
     ]
    },
    {
     "data": {
      "application/vnd.jupyter.widget-view+json": {
       "model_id": "f440fb5325094deca7a26cadcc63319a",
       "version_major": 2,
       "version_minor": 0
      },
      "text/plain": [
       "Reading corpus...:   0%|          | 0/2000 [00:00<?, ?it/s]"
      ]
     },
     "metadata": {},
     "output_type": "display_data"
    },
    {
     "data": {
      "application/vnd.jupyter.widget-view+json": {
       "model_id": "300e03737f034b4db7125b18c0d69e6f",
       "version_major": 2,
       "version_minor": 0
      },
      "text/plain": [
       "Reading corpus...:   0%|          | 0/1000 [00:00<?, ?it/s]"
      ]
     },
     "metadata": {},
     "output_type": "display_data"
    },
    {
     "data": {
      "application/vnd.jupyter.widget-view+json": {
       "model_id": "ec99f37724ac4a489a8b56ece76f3a5a",
       "version_major": 2,
       "version_minor": 0
      },
      "text/plain": [
       "Reading corpus...:   0%|          | 0/1000 [00:00<?, ?it/s]"
      ]
     },
     "metadata": {},
     "output_type": "display_data"
    },
    {
     "data": {
      "application/vnd.jupyter.widget-view+json": {
       "model_id": "31960a6cbfe4465f8ddb0255b39cc5e7",
       "version_major": 2,
       "version_minor": 0
      },
      "text/plain": [
       "Reading corpus...:   0%|          | 0/600 [00:00<?, ?it/s]"
      ]
     },
     "metadata": {},
     "output_type": "display_data"
    },
    {
     "data": {
      "application/vnd.jupyter.widget-view+json": {
       "model_id": "0db3349767a8494597652b66cfce1fac",
       "version_major": 2,
       "version_minor": 0
      },
      "text/plain": [
       "Reading corpus...:   0%|          | 0/300 [00:00<?, ?it/s]"
      ]
     },
     "metadata": {},
     "output_type": "display_data"
    },
    {
     "data": {
      "application/vnd.jupyter.widget-view+json": {
       "model_id": "c64fc9794d1b457ab0c303d9a7ff83c8",
       "version_major": 2,
       "version_minor": 0
      },
      "text/plain": [
       "Reading corpus...:   0%|          | 0/300 [00:00<?, ?it/s]"
      ]
     },
     "metadata": {},
     "output_type": "display_data"
    },
    {
     "name": "stdout",
     "output_type": "stream",
     "text": [
      "SVD descending: False\n"
     ]
    },
    {
     "data": {
      "application/vnd.jupyter.widget-view+json": {
       "model_id": "51556fa7c1d048a1b1fb0e4829c8ffae",
       "version_major": 2,
       "version_minor": 0
      },
      "text/plain": [
       "Reading corpus...:   0%|          | 0/2000 [00:00<?, ?it/s]"
      ]
     },
     "metadata": {},
     "output_type": "display_data"
    },
    {
     "data": {
      "application/vnd.jupyter.widget-view+json": {
       "model_id": "b04dec0a14284ec4b6b58661f2c75c0c",
       "version_major": 2,
       "version_minor": 0
      },
      "text/plain": [
       "Reading corpus...:   0%|          | 0/1000 [00:00<?, ?it/s]"
      ]
     },
     "metadata": {},
     "output_type": "display_data"
    },
    {
     "data": {
      "application/vnd.jupyter.widget-view+json": {
       "model_id": "c753b0bf987d4a0ab5b7ec7647e4098a",
       "version_major": 2,
       "version_minor": 0
      },
      "text/plain": [
       "Reading corpus...:   0%|          | 0/1000 [00:00<?, ?it/s]"
      ]
     },
     "metadata": {},
     "output_type": "display_data"
    },
    {
     "data": {
      "application/vnd.jupyter.widget-view+json": {
       "model_id": "063a2bfd41c843039d34ba0a70a9c13c",
       "version_major": 2,
       "version_minor": 0
      },
      "text/plain": [
       "Reading corpus...:   0%|          | 0/600 [00:00<?, ?it/s]"
      ]
     },
     "metadata": {},
     "output_type": "display_data"
    },
    {
     "data": {
      "application/vnd.jupyter.widget-view+json": {
       "model_id": "7b2fbb03d4ba4c648753ee95d1fc4eeb",
       "version_major": 2,
       "version_minor": 0
      },
      "text/plain": [
       "Reading corpus...:   0%|          | 0/300 [00:00<?, ?it/s]"
      ]
     },
     "metadata": {},
     "output_type": "display_data"
    },
    {
     "data": {
      "application/vnd.jupyter.widget-view+json": {
       "model_id": "2ca5507899f744bf8064fd24a3b0234d",
       "version_major": 2,
       "version_minor": 0
      },
      "text/plain": [
       "Reading corpus...:   0%|          | 0/300 [00:00<?, ?it/s]"
      ]
     },
     "metadata": {},
     "output_type": "display_data"
    }
   ],
   "source": [
    "lang = \"RUS\"\n",
    "# os.makedirs(f\"tables/{lang}/\")\n",
    "for m in trange(1, 17):\n",
    "    for emb_type in tqdm(['SVD', 'skipgram', 'cbow'], leave=False):\n",
    "        if emb_type.lower() == 'svd':\n",
    "            wdict_path = f\"/home/kdang/{lang}/russian_nofrag_data/russian_nofraglit_SVD_dict.npy\"\n",
    "        else:\n",
    "            wdict_path = f\"/home/kdang/{lang}/russian_nofrag_data/russian_nofraglit_{emb_type}_{m}_dict.npy\"\n",
    "        dataset_params = {\n",
    "            \"text_data_path\":\"../DATASET/Russian/\",\n",
    "            \"lang\":lang,\n",
    "            \"language\":\"russian\",\n",
    "            \"m\":m,\n",
    "            \"emb_type\":emb_type,\n",
    "            \"wdict_path\":wdict_path\n",
    "        }\n",
    "        en_dataset = get_dataset(**dataset_params)\n",
    "        (X_train, y_train), (X_test, y_test) = split_data(en_dataset)\n",
    "        tda_pipeline = TDAPipeline()\n",
    "        X_train_tf = tda_pipeline.pipeline.fit_transform(X_train)\n",
    "        X_test_tf = tda_pipeline.pipeline.transform(X_test)\n",
    "        np.save(f\"tables/{lang}/train_dataset_{m}_{emb_type}.npy\", X_train_tf)\n",
    "        np.save(f\"tables/{lang}/test_dataset_{m}_{emb_type}.npy\", X_test_tf)        "
   ]
  },
  {
   "cell_type": "code",
   "execution_count": null,
   "id": "588bf071-2a85-419a-af1d-a01827056c05",
   "metadata": {},
   "outputs": [],
   "source": [
    "lang = \"GER\"\n",
    "os.makedirs(f\"tables/{lang}/\")\n",
    "for m in trange(1, 17):\n",
    "    for emb_type in tqdm(['SVD', 'skipgram', 'cbow'], leave=False):\n",
    "        if emb_type.lower() == 'svd':\n",
    "            wdict_path = f\"/home/kdang/{lang}/german_data/german_newlit_SVD_dict.npy\"\n",
    "        else:\n",
    "            wdict_path = f\"/home/kdang/{lang}/german_data/german_newlit_{emb_type}_{m}_dict.npy\"\n",
    "        dataset_params = {\n",
    "            \"text_data_path\":\"../DATASET/German/\",\n",
    "            \"lang\":lang,\n",
    "            \"language\":\"german\",\n",
    "            \"m\":m,\n",
    "            \"emb_type\":emb_type,\n",
    "            \"wdict_path\":wdict_path\n",
    "        }\n",
    "        en_dataset = get_dataset(**dataset_params)\n",
    "        (X_train, y_train), (X_test, y_test) = split_data(en_dataset)\n",
    "        X_train_tf = tda_pipeline.pipeline.fit_transform(X_train)\n",
    "        X_test_tf = tda_pipeline.pipeline.transform(X_test)\n",
    "        np.save(f\"tables/{lang}/train_dataset_{m}_{emb_type}.npy\", X_train_tf)\n",
    "        np.save(f\"tables/{lang}/test_dataset_{m}_{emb_type}.npy\", X_test_tf)        "
   ]
  },
  {
   "cell_type": "code",
   "execution_count": null,
   "id": "c8546b67-c659-44e0-b667-7bd4ca909bf5",
   "metadata": {},
   "outputs": [],
   "source": [
    "lang = \"FR\"\n",
    "os.makedirs(f\"tables/{lang}/\")\n",
    "for m in trange(1, 17):\n",
    "    for emb_type in tqdm(['SVD', 'skipgram', 'cbow'], leave=False):\n",
    "        if emb_type.lower() == 'svd':\n",
    "            wdict_path = f\"/home/kdang/{lang}/french_data/newlit_data/french_newlit_SVD_dict.npy\"\n",
    "        else:\n",
    "            wdict_path = f\"/home/kdang/{lang}/french_data/newlit_data/french_newlit_{emb_type}_{m}_dict.npy\"\n",
    "        dataset_params = {\n",
    "            \"text_data_path\":\"../DATASET/French/\",\n",
    "            \"lang\":lang,\n",
    "            \"language\":\"french\",\n",
    "            \"m\":m,\n",
    "            \"emb_type\":emb_type,\n",
    "            \"wdict_path\":wdict_path\n",
    "        }\n",
    "        en_dataset = get_dataset(**dataset_params)\n",
    "        (X_train, y_train), (X_test, y_test) = split_data(en_dataset)\n",
    "        X_train_tf = tda_pipeline.pipeline.fit_transform(X_train)\n",
    "        X_test_tf = tda_pipeline.pipeline.transform(X_test)\n",
    "        np.save(f\"tables/{lang}/train_dataset_{m}_{emb_type}.npy\", X_train_tf)\n",
    "        np.save(f\"tables/{lang}/test_dataset_{m}_{emb_type}.npy\", X_test_tf)        "
   ]
  },
  {
   "cell_type": "code",
   "execution_count": null,
   "id": "ba06c704-84e3-48c8-8aee-df772fc12388",
   "metadata": {},
   "outputs": [],
   "source": [
    "lang = \"VN\"\n",
    "# \"/home/kdang/VN/vn_embs/table/svd_table_16.npy\"\n",
    "# \"/home/kdang/VN/vn_embs/table/cbow/cbow_table_1.npy\"\n",
    "os.makedirs(f\"tables/{lang}/\")\n",
    "for m in trange(1, 17):\n",
    "    for emb_type in tqdm(['SVD', 'skipgram', 'cbow'], leave=False):\n",
    "        if emb_type.lower() == 'svd':\n",
    "            wdict_path = f\"/home/kdang/{lang}/vn_embs/table/svd_table_16.npy\"\n",
    "        else:\n",
    "            wdict_path = f\"/home/kdang/{lang}/vn_embs/{emb_type}/{emb_type}_table_{m}.npy\"\n",
    "        dataset_params = {\n",
    "            \"text_data_path\":\"../DATASET/Vietnamese/\",\n",
    "            \"lang\":lang,\n",
    "            \"language\":\"vietnamese\",\n",
    "            \"m\":m,\n",
    "            \"emb_type\":emb_type,\n",
    "            \"wdict_path\":wdict_path\n",
    "        }\n",
    "        en_dataset = get_dataset(**dataset_params)\n",
    "        (X_train, y_train), (X_test, y_test) = split_data(en_dataset)\n",
    "        X_train_tf = tda_pipeline.pipeline.fit_transform(X_train)\n",
    "        X_test_tf = tda_pipeline.pipeline.transform(X_test)\n",
    "        np.save(f\"tables/{lang}/train_dataset_{m}_{emb_type}.npy\", X_train_tf)\n",
    "        np.save(f\"tables/{lang}/test_dataset_{m}_{emb_type}.npy\", X_test_tf)        "
   ]
  }
 ],
 "metadata": {
  "kernelspec": {
   "display_name": "Python [.conda-tmp_env]",
   "language": "python",
   "name": "conda-env-.conda-tmp_env-py"
  },
  "language_info": {
   "codemirror_mode": {
    "name": "ipython",
    "version": 3
   },
   "file_extension": ".py",
   "mimetype": "text/x-python",
   "name": "python",
   "nbconvert_exporter": "python",
   "pygments_lexer": "ipython3",
   "version": "3.10.11"
  }
 },
 "nbformat": 4,
 "nbformat_minor": 5
}
